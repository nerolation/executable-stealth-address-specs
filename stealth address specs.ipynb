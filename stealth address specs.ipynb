{
 "cells": [
  {
   "cell_type": "code",
   "execution_count": 3,
   "id": "d4a9a82c",
   "metadata": {},
   "outputs": [],
   "source": [
    "import hashlib\n",
    "from py_ecc.secp256k1 import *\n",
    "import sha3\n",
    "from eth_account import Account\n",
    "from typing import NewType\n",
    "from dataclasses import dataclass\n",
    "\n",
    "SECP256K1_ORDER = 0xFFFFFFFFFFFFFFFFFFFFFFFFFFFFFFFEBAAEDCE6AF48A03BBFD25E8CD0364141\n"
   ]
  },
  {
   "cell_type": "code",
   "execution_count": 27,
   "id": "3036998b",
   "metadata": {},
   "outputs": [],
   "source": [
    "PrivateKey = NewType('PrivateKey', int)\n",
    "PublicKeyCoordinate = NewType('PublicKeyCoordinate', int)\n",
    "\n",
    "@dataclass\n",
    "class PublicKeyCoordinates:\n",
    "    x: PublicKeyCoordinate = 0\n",
    "    y: PublicKeyCoordinate = 0\n",
    "\n",
    "def generate_random_private_key() -> PrivateKey:\n",
    "    # Generate a random 32 bytes (256 bits)\n",
    "    random_bytes = os.urandom(32)\n",
    "\n",
    "    # Convert the random bytes to an integer\n",
    "    random_int = int.from_bytes(random_bytes, 'big')\n",
    "\n",
    "    # Modulo it by the order of the curve to ensure it's a valid private key\n",
    "    private_key = random_int % SECP256K1_ORDER\n",
    "\n",
    "    # Ensure the private key is not 0\n",
    "    if private_key == 0:\n",
    "        return generate_random_private_key()\n",
    "\n",
    "    return PrivateKey(private_key)\n",
    "\n",
    "def priv_to_pub(privateKey: PrivateKey) -> PublicKey:\n",
    "    # Convert the private key integer to a 32-byte big-endian representation and get the public key\n",
    "    return PublicKeyCoordinate(*secp256k1.privtopub(privateKey.to_bytes(32, 'big')))\n",
    "    "
   ]
  },
  {
   "cell_type": "code",
   "execution_count": null,
   "id": "10be00bd",
   "metadata": {},
   "outputs": [],
   "source": [
    "s = int(0xd952fe0740d9d14011fc8ead3ab7de3c739d3aa93ce9254c10b0134d80d26a30) # private key\n",
    "S = secp256k1.privtopub(s.to_bytes(32, \"big\")) # public key\n",
    "S"
   ]
  },
  {
   "cell_type": "code",
   "execution_count": 22,
   "id": "5d11f4e6",
   "metadata": {},
   "outputs": [
    {
     "data": {
      "text/plain": [
       "b'\\xd9R\\xfe\\x07@\\xd9\\xd1@\\x11\\xfc\\x8e\\xad:\\xb7\\xde<s\\x9d:\\xa9<\\xe9%L\\x10\\xb0\\x13M\\x80\\xd2j0'"
      ]
     },
     "execution_count": 22,
     "metadata": {},
     "output_type": "execute_result"
    }
   ],
   "source": [
    "PrivateKey(int(0xd952fe0740d9d14011fc8ead3ab7de3c739d3aa93ce9254c10b0134d80d26a30)).to_bytes(32, 'big')"
   ]
  },
  {
   "cell_type": "code",
   "execution_count": 28,
   "id": "2cf95f96",
   "metadata": {},
   "outputs": [
    {
     "data": {
      "text/plain": [
       "PublicKeyCoordinate(x=22246744184454969143801186698733154500632648736073949898323976612504587645286, y=110772761940586493986212935445517909380300793379795289150161960681985511655321)"
      ]
     },
     "execution_count": 28,
     "metadata": {},
     "output_type": "execute_result"
    }
   ],
   "source": [
    "priv_to_pub(PrivateKey(int(0xd952fe0740d9d14011fc8ead3ab7de3c739d3aa93ce9254c10b0134d80d26a30)))"
   ]
  },
  {
   "cell_type": "code",
   "execution_count": null,
   "id": "31c83992",
   "metadata": {},
   "outputs": [],
   "source": []
  }
 ],
 "metadata": {
  "kernelspec": {
   "display_name": "smartwallet",
   "language": "python",
   "name": "smartwallet"
  },
  "language_info": {
   "codemirror_mode": {
    "name": "ipython",
    "version": 3
   },
   "file_extension": ".py",
   "mimetype": "text/x-python",
   "name": "python",
   "nbconvert_exporter": "python",
   "pygments_lexer": "ipython3",
   "version": "3.10.12"
  }
 },
 "nbformat": 4,
 "nbformat_minor": 5
}
