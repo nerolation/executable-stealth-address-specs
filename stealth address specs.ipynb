{
 "cells": [
  {
   "cell_type": "code",
   "execution_count": 1,
   "id": "fb6e355e",
   "metadata": {},
   "outputs": [],
   "source": [
    "import hashlib\n",
    "from py_ecc.secp256k1 import *\n",
    "import sha3\n",
    "import ecdsa\n",
    "import os\n",
    "from eth_account import Account\n",
    "from typing import NewType\n",
    "from functools import wraps\n",
    "from dataclasses import dataclass\n",
    "\n",
    "SECP256K1_ORDER = int(0xFFFFFFFFFFFFFFFFFFFFFFFFFFFFFFFEBAAEDCE6AF48A03BBFD25E8CD0364141)\n",
    "\n",
    "USE_VIEWTAGS = True\n",
    "LOGGING = False"
   ]
  },
  {
   "cell_type": "code",
   "execution_count": 2,
   "id": "ffbc4394",
   "metadata": {},
   "outputs": [],
   "source": [
    "def print_function_name(func):\n",
    "    @wraps(func)\n",
    "    def wrapper(*args, **kwargs):\n",
    "        if not LOGGING:\n",
    "            return func(*args, **kwargs)\n",
    "        print(f\"Executing function: {func.__name__}\")\n",
    "        return func(*args, **kwargs)\n",
    "    return wrapper\n",
    "pfn = print_function_name"
   ]
  },
  {
   "cell_type": "code",
   "execution_count": 99,
   "id": "5744ea17",
   "metadata": {},
   "outputs": [],
   "source": [
    "PrivateKey = NewType('PrivateKey', int)\n",
    "PublicKeyPoint = NewType('PublicKeyPoint', int)\n",
    "HashBelowOrder = NewType('HashBelowOrder', int)\n",
    "EthAddress = NewType('EthAddress', str)\n",
    "ViewTag = NewType('ViewTag', int)\n",
    "HexString = NewType('HexString', str)\n",
    "CompressedPublicKey = NewType('CompressedPublicKey', str)\n",
    "StealthMetaAddress = NewType('StealthMetaAddress', str)\n",
    "\n",
    "\n",
    "\n",
    "@dataclass\n",
    "class PublicKey:\n",
    "    x: PublicKeyPoint = 0\n",
    "    y: PublicKeyPoint = 0\n",
    "\n",
    "@pfn\n",
    "def generate_random_private_key() -> PrivateKey:\n",
    "    # Generate a random 32 bytes (256 bits)\n",
    "    random_bytes = os.urandom(32)\n",
    "\n",
    "    # Convert the random bytes to an integer\n",
    "    random_int = int.from_bytes(random_bytes, 'big')\n",
    "\n",
    "    # Modulo it by the order of the curve to ensure it's a valid private key\n",
    "    private_key = random_int % SECP256K1_ORDER\n",
    "\n",
    "    # Ensure the private key is not 0\n",
    "    if private_key == 0:\n",
    "        return generate_random_private_key()\n",
    "\n",
    "    return PrivateKey(private_key)\n",
    "\n",
    "@pfn\n",
    "def to_hex(i: int) -> HexString:\n",
    "    return hex(privateKey)\n",
    "\n",
    "@pfn\n",
    "def priv_to_pub(privateKey: PrivateKey) -> PublicKey:\n",
    "    # Convert the private key integer to a 32-byte big-endian representation and get the public key\n",
    "    return PublicKey(*secp256k1.privtopub(privateKey.to_bytes(32, 'big')))\n",
    "\n",
    "@pfn\n",
    "def pubkey_add(publicKey: PublicKey, publicKey2: PublicKey):\n",
    "    return PublicKey(\n",
    "        *secp256k1.add(\n",
    "            (publicKey.x, publicKey.y),\n",
    "            (publicKey2.x, publicKey2.y)\n",
    "        )\n",
    "    )\n",
    "    \n",
    "@pfn\n",
    "def pubkey_mul(publicKey: PublicKey, x: int) -> PublicKey:\n",
    "    return PublicKey(*secp256k1.multiply((publicKey.x, publicKey.y), x))\n",
    "\n",
    "@pfn\n",
    "def hash_public_key(publicKey: PublicKey) -> HashBelowOrder:\n",
    "    return HashBelowOrder(\n",
    "        int(\n",
    "            sha3.keccak_256(\n",
    "                publicKey.x.to_bytes(32, \"big\") + \n",
    "                publicKey.y.to_bytes(32, \"big\")\n",
    "            ).hexdigest(), \n",
    "            16\n",
    "        ) % SECP256K1_ORDER\n",
    "    )\n",
    "\n",
    "@pfn\n",
    "def pubkey_to_address(publicKey: PublicKey) -> EthAddress:\n",
    "    return EthAddress(\n",
    "        \"0x\" + sha3.keccak_256(\n",
    "            publicKey.x.to_bytes(32, \"big\") +\n",
    "            publicKey.y.to_bytes(32, \"big\")\n",
    "        ).hexdigest()[-40:]\n",
    "    )\n",
    "\n",
    "@pfn\n",
    "def uncompress_public_key(compressedPublicKey: CompressedPublicKey) -> PublicKey:\n",
    "    key = ecdsa.VerifyingKey.from_string(compressedKeyBytes, curve=ecdsa.SECP256k1)\n",
    "    publicKey = uncompress_public_key(compressedPublicKey)\n",
    "    return PublicKey(publicKey.x(), publicKey.y())\n",
    "\n",
    "@pfn\n",
    "def parse_stealth_meta_address(stealthMetaAddress: StealthMetaAddress) -> (PublicKey):\n",
    "    if not stealthMetaAddress.startswith(\"st:eth:0x\"):\n",
    "        return\n",
    "    if not len(stealthMetaAddress) == 66*2+2+7:\n",
    "        return\n",
    "    \n",
    "    sma_string = input_str.split(\":\")[-1][2:] # This gets the part after 'st:eth:0x'\n",
    "    publicKeySp, publicKeySc = sma_string[:66], sma_string[66:] #\n",
    "    return uncompress_public_key(publicKeySp), uncompress_public_key(publicKeySc)\n",
    "\n",
    "\n",
    "@pfn\n",
    "def compute_ephemeral_public_key(ephemeralPrivateKey: PrivateKey) -> PublicKey:\n",
    "    return priv_to_pub(ephemeralPrivateKey)\n",
    "\n",
    "@pfn\n",
    "def compute_dh_secret(publicKey: PublicKey, ephemeralPrivateKey: PrivateKey) -> PublicKey:\n",
    "    return pubkey_mul(publicKey, ephemeralPrivateKey)\n",
    "    \n",
    "@pfn\n",
    "def hashed_dh_secret_to_point(dhSecretHash: HashBelowOrder) -> PublicKey:\n",
    "    return priv_to_pub(dhSecretHash)\n",
    "\n",
    "@pfn\n",
    "def hash_dh_secret(dhSecret: PublicKey) -> HashBelowOrder:\n",
    "    return hash_public_key(dhSecret)\n",
    "\n",
    "@pfn\n",
    "def retrieve_view_tag(dhSecretHash: HashBelowOrder) -> ViewTag:\n",
    "    return ViewTag(dhSecretHash.to_bytes(32, \"big\")[0])\n",
    "\n",
    "@pfn\n",
    "def compute_stealth_public_key_from_dh_point(dhSecretPoint: PublicKey, publicKey: PublicKey) -> PublicKey:\n",
    "    return pubkey_add(publicKey, dhSecretPoint)\n",
    "\n",
    "@pfn\n",
    "def check_view_tag(dhSecretHash: HashBelowOrder, comparisonTag: ViewTag):\n",
    "    retrievedViewTag = retrieve_view_tag(dhSecretHash)\n",
    "    return True if retrievedViewTag == comparisonTag else False\n",
    " \n",
    "\n",
    "@pfn\n",
    "def compute_stealth_address_from_recipient_info(\n",
    "    publicKeySpending: PublicKey, \n",
    "    publicKeyScanning: PublicKey, \n",
    "    ephemeralPrivateKey: PrivateKey\n",
    ") -> (EthAddress, PublicKey, ViewTag):\n",
    "    dhSecret = compute_dh_secret(publicKeyScanning, ephemeralPrivateKey)\n",
    "    dhSecretHash = hash_dh_secret(dhSecret)\n",
    "    viewTag = retrieve_view_tag(dhSecretHash)  \n",
    "    dhSecretPoint = hashed_dh_secret_to_point(dhSecretHash)\n",
    "    stealthAddressPublicKey = compute_stealth_public_key_from_dh_point(dhSecretPoint, publicKeySpending)\n",
    "    stealthAddress = pubkey_to_address(stealthAddressPublicKey)\n",
    "    ephemeralPublicKey = compute_ephemeral_public_key(ephemeralPrivateKey)\n",
    "    return stealthAddress, ephemeralPublicKey, viewTag\n",
    "\n",
    "\n",
    "@pfn\n",
    "def generate_stealth_address_info_from_meta_address(\n",
    "    stealthMetaAddress: StealthMetaAddress, \n",
    "    ephemeralPrivateKey: PrivateKey\n",
    ") -> (EthAddress, PublicKey, ViewTag):\n",
    "    publicKeySpending, publicKeyScanning = parse_stealth_meta_address(stealthMetaAddress)\n",
    "    return compute_stealth_address_from_recipient_info(publicKeySpending, publicKeyScanning, ephemeralPrivateKey)\n",
    "    \n",
    "\n",
    "@pfn\n",
    "def parse(\n",
    "    publicKeys: [PublicKey], \n",
    "    stealthAddresses: [EthAddress],\n",
    "    viewTags: [ViewTag],\n",
    "    scanningPrivateKey: PrivateKey, \n",
    "    spendingPublicKey: PublicKey,\n",
    ") -> ([(HashBelowOrder, EthAddress)], [EthAddress]):\n",
    "    found = []\n",
    "    parsed = []\n",
    "    for pubkey, stA, viewtag in zip(publicKeys, stealthAddresses, viewTags):\n",
    "        dhSecret = compute_dh_secret(pubkey, scanningPrivateKey)\n",
    "        dhSecretHash = hash_dh_secret(dhSecret)\n",
    "        if not check_view_tag(dhSecretHash, viewtag):\n",
    "            parsed.append(stA)\n",
    "            continue\n",
    "        dhSecretPoint = hashed_dh_secret_to_point(dhSecretHash)\n",
    "        stealthAddressPublicKey = compute_stealth_public_key_from_dh_point(dhSecretPoint, spendingPublicKey)\n",
    "        stealthAddress = pubkey_to_address(stealthAddressPublicKey)\n",
    "        if stealthAddress == stA:\n",
    "            print(f\"Stealth address found | {stA}\")\n",
    "            found.append((dhSecretHash, stA))\n",
    "        parsed.append(stA)\n",
    "    return found, parsed\n",
    "\n",
    "\n",
    "@pfn\n",
    "def compute_stealth_address_private_key(\n",
    "    dhSecrets: [HashBelowOrder], \n",
    "    spendingPrivateKey: PrivateKey\n",
    ") -> [PrivateKey]:\n",
    "    return [(spendingPrivateKey + dh_secret) % SECP256K1_ORDER for dh_secret in dhSecrets]\n",
    "        "
   ]
  },
  {
   "cell_type": "code",
   "execution_count": 100,
   "id": "316fc7e4",
   "metadata": {},
   "outputs": [],
   "source": [
    "aPriv = generate_random_private_key()\n",
    "aPub = priv_to_pub(aPriv)"
   ]
  },
  {
   "cell_type": "code",
   "execution_count": 101,
   "id": "200971c4",
   "metadata": {},
   "outputs": [],
   "source": [
    "bPrivSC = generate_random_private_key()\n",
    "bPrivSP = generate_random_private_key()\n",
    "bPubSP = priv_to_pub(bPrivSP)\n",
    "bPubSC = priv_to_pub(bPrivSC)\n"
   ]
  },
  {
   "cell_type": "code",
   "execution_count": 102,
   "id": "f956b315",
   "metadata": {},
   "outputs": [
    {
     "data": {
      "text/plain": [
       "PublicKey(x=62603816693165357161519198575516634423088782743611591198174083658109481580263, y=114504888317688553261153475312333677499185822781284220130304107510717073626768)"
      ]
     },
     "execution_count": 102,
     "metadata": {},
     "output_type": "execute_result"
    }
   ],
   "source": [
    "bPubSC"
   ]
  },
  {
   "cell_type": "code",
   "execution_count": 103,
   "id": "62172958",
   "metadata": {},
   "outputs": [],
   "source": [
    "stA, ephemeralPublicKey, viewTag = compute_stealth_address_from_recipient_info(bPubSP, bPubSC, aPriv)"
   ]
  },
  {
   "cell_type": "code",
   "execution_count": 104,
   "id": "68e65189",
   "metadata": {},
   "outputs": [
    {
     "data": {
      "text/plain": [
       "37"
      ]
     },
     "execution_count": 104,
     "metadata": {},
     "output_type": "execute_result"
    }
   ],
   "source": [
    "viewTag"
   ]
  },
  {
   "cell_type": "code",
   "execution_count": 105,
   "id": "f1332d2c",
   "metadata": {},
   "outputs": [
    {
     "name": "stdout",
     "output_type": "stream",
     "text": [
      "Stealth address found | 0x75255c7fe303cde8681ba61355b02fc0cf0da9cc\n"
     ]
    }
   ],
   "source": [
    "found, _ = parse([ephemeralPublicKey], [stA], [viewTag], bPrivSC, bPubSP)"
   ]
  },
  {
   "cell_type": "code",
   "execution_count": 110,
   "id": "fe146f5d",
   "metadata": {},
   "outputs": [
    {
     "data": {
      "text/plain": [
       "[(17151583196944826877136772214029804164759284870419242749617404751329001376863,\n",
       "  '0x75255c7fe303cde8681ba61355b02fc0cf0da9cc')]"
      ]
     },
     "execution_count": 110,
     "metadata": {},
     "output_type": "execute_result"
    }
   ],
   "source": [
    "found"
   ]
  },
  {
   "cell_type": "code",
   "execution_count": 106,
   "id": "b9d9ba93",
   "metadata": {},
   "outputs": [
    {
     "data": {
      "text/plain": [
       "[45933781020337241433236171727533356179575802717288149974187345313975658392259]"
      ]
     },
     "execution_count": 106,
     "metadata": {},
     "output_type": "execute_result"
    }
   ],
   "source": [
    "dh_secrets = [i[0] for i in found]\n",
    "compute_stealth_address_private_key(dh_secrets,bPrivSP)"
   ]
  },
  {
   "cell_type": "code",
   "execution_count": 107,
   "id": "f496dc23",
   "metadata": {},
   "outputs": [
    {
     "data": {
      "text/plain": [
       "'0x658d9946d9820792cda0034ee32f1313ba784f3090df24beefcb72f876e4aac3'"
      ]
     },
     "execution_count": 107,
     "metadata": {},
     "output_type": "execute_result"
    }
   ],
   "source": [
    "hex(45933781020337241433236171727533356179575802717288149974187345313975658392259)"
   ]
  },
  {
   "cell_type": "code",
   "execution_count": 109,
   "id": "c9f731b1",
   "metadata": {},
   "outputs": [
    {
     "data": {
      "text/plain": [
       "'0x75255c7fe303cde8681ba61355b02fc0cf0da9cc'"
      ]
     },
     "execution_count": 109,
     "metadata": {},
     "output_type": "execute_result"
    }
   ],
   "source": [
    "pubkey_to_address(priv_to_pub(45933781020337241433236171727533356179575802717288149974187345313975658392259))"
   ]
  }
 ],
 "metadata": {
  "kernelspec": {
   "display_name": "smartwallet",
   "language": "python",
   "name": "smartwallet"
  },
  "language_info": {
   "codemirror_mode": {
    "name": "ipython",
    "version": 3
   },
   "file_extension": ".py",
   "mimetype": "text/x-python",
   "name": "python",
   "nbconvert_exporter": "python",
   "pygments_lexer": "ipython3",
   "version": "3.10.12"
  }
 },
 "nbformat": 4,
 "nbformat_minor": 5
}
