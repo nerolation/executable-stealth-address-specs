{
 "cells": [
  {
   "cell_type": "code",
   "execution_count": 1,
   "id": "5747f9ea",
   "metadata": {},
   "outputs": [],
   "source": [
    "from main import *"
   ]
  },
  {
   "cell_type": "code",
   "execution_count": 2,
   "id": "cc45c41b",
   "metadata": {},
   "outputs": [
    {
     "name": "stdout",
     "output_type": "stream",
     "text": [
      "aPriv: 31582853143040820948875942041653389873450407831047855470517498178324574486065\n",
      "aPub: PublicKey(x=99931485108758068354634100015529707565438847495649276196131125998359569029703, y=4744375390796532504618795785909610189099640957761399522523575349957196497592, xy=0)\n"
     ]
    }
   ],
   "source": [
    "## Sender\n",
    "\n",
    "aPriv = generate_random_private_key() # ephemeral private Key\n",
    "aPub = priv_to_pub(aPriv) # ephemeral public Key\n",
    "print(\"aPriv:\", aPriv)\n",
    "print(\"aPub:\", aPub)"
   ]
  },
  {
   "cell_type": "code",
   "execution_count": 3,
   "id": "0c818ab2",
   "metadata": {},
   "outputs": [
    {
     "name": "stdout",
     "output_type": "stream",
     "text": [
      "bPrivSp: 30787322447577792890566286485782027903969759412226064433999487819529647462924\n",
      "bPrivSc: 50431308649801251425320023123245644035351225602185776979597242007527042324186\n",
      "bPubSp: PublicKey(x=101360329545495956162666051930186878698033955801916540340568215465424285633263, y=27884173484063268355525586231115143741771553385896109414861147204858225531545, xy=0)\n",
      "bPubSc: PublicKey(x=12497814997365815068905527286060252467359539672611551375389366654292063092228, y=6165085391294201611990159913274691549635337727676630133767399716897791323976, xy=0)\n",
      "stealthMA: st:eth:0x03e017e9d9dbcb9ce5771acfce74c95bc0eafb5db37ef4b1ac62375f8e7a4c8aef021ba1833a9575bd2ad924440a20a80417437f77b0539cbc3f5bbaeeb2881efe04\n"
     ]
    }
   ],
   "source": [
    "## Recipient\n",
    "\n",
    "bPrivSp = generate_random_private_key() # spening private key\n",
    "bPrivSc = generate_random_private_key() # scanning private key\n",
    "\n",
    "bPubSp = priv_to_pub(bPrivSp) # spening public key\n",
    "bPubSc = priv_to_pub(bPrivSc) # scanning public key\n",
    "\n",
    "stealthMA = generate_stealth_meta_address(bPubSp, bPubSc)\n",
    "\n",
    "print(\"bPrivSp:\", bPrivSp)\n",
    "print(\"bPrivSc:\", bPrivSc)\n",
    "print(\"bPubSp:\", bPubSp)\n",
    "print(\"bPubSc:\", bPubSc)\n",
    "print(\"stealthMA:\", stealthMA)"
   ]
  },
  {
   "cell_type": "code",
   "execution_count": 4,
   "id": "8b253e5f",
   "metadata": {},
   "outputs": [
    {
     "name": "stdout",
     "output_type": "stream",
     "text": [
      "stAddress: 0xc7c1bbf258340e551061e7d561798555aa871c0d\n",
      "ephemeralPublicKey: PublicKey(x=99931485108758068354634100015529707565438847495649276196131125998359569029703, y=4744375390796532504618795785909610189099640957761399522523575349957196497592, xy=0)\n",
      "viewTag: 61\n"
     ]
    }
   ],
   "source": [
    "# Sender computes stealth address and necessary information for the recipient\n",
    "stAddress, ephemeralPublicKey, viewTag = generate_stealth_address_info_from_meta_address(stealthMA, aPriv)\n",
    "\n",
    "print(\"stAddress:\", stAddress)\n",
    "print(\"ephemeralPublicKey:\", ephemeralPublicKey)\n",
    "print(\"viewTag:\", viewTag)"
   ]
  },
  {
   "cell_type": "code",
   "execution_count": 5,
   "id": "92798a01",
   "metadata": {},
   "outputs": [
    {
     "name": "stdout",
     "output_type": "stream",
     "text": [
      "Stealth address found | 0xc7c1bbf258340e551061e7d561798555aa871c0d\n"
     ]
    }
   ],
   "source": [
    "## Recipient parses all events and collects the ephemeral pubkey, the stealth addresses and view tags logged\n",
    "moreRandomPrivateKeys = [generate_random_private_key() for i in range(1,101)]\n",
    "moreRandomPublicKeys = [priv_to_pub(i) for i in moreRandomPrivateKeys]\n",
    "moreRandomStealthAddresses = [pubkey_to_address(i) for i in moreRandomPublicKeys]\n",
    "moreRandomViewTags = [i for i in range(len(moreRandomStealthAddresses))]\n",
    "\n",
    "\n",
    "found, parsed = parse(\n",
    "    [ephemeralPublicKey]+moreRandomPublicKeys, \n",
    "    [stAddress] + moreRandomStealthAddresses, \n",
    "    [viewTag] + moreRandomViewTags, \n",
    "    bPrivSc, \n",
    "    bPubSp\n",
    ")"
   ]
  },
  {
   "cell_type": "code",
   "execution_count": 6,
   "id": "c8dbd6cf",
   "metadata": {},
   "outputs": [],
   "source": [
    "matching_dh_secrets = [i[0] for i in found]\n",
    "stealthPrivateKeys = compute_stealth_address_private_key(matching_dh_secrets, bPrivSp)"
   ]
  },
  {
   "cell_type": "code",
   "execution_count": 7,
   "id": "04864272",
   "metadata": {},
   "outputs": [
    {
     "name": "stdout",
     "output_type": "stream",
     "text": [
      "0x81c527d561a196132fe18f2242385e4cdac91990657021cd0cee71a24d55242e\n"
     ]
    }
   ],
   "source": [
    "for i in stealthPrivateKeys:\n",
    "    print(hex(i))"
   ]
  },
  {
   "cell_type": "code",
   "execution_count": null,
   "id": "4c12e909",
   "metadata": {},
   "outputs": [],
   "source": []
  }
 ],
 "metadata": {
  "kernelspec": {
   "display_name": "smartwallet",
   "language": "python",
   "name": "smartwallet"
  },
  "language_info": {
   "codemirror_mode": {
    "name": "ipython",
    "version": 3
   },
   "file_extension": ".py",
   "mimetype": "text/x-python",
   "name": "python",
   "nbconvert_exporter": "python",
   "pygments_lexer": "ipython3",
   "version": "3.10.12"
  }
 },
 "nbformat": 4,
 "nbformat_minor": 5
}
