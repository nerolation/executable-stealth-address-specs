{
 "cells": [
  {
   "cell_type": "code",
   "execution_count": 1,
   "id": "a006c973",
   "metadata": {},
   "outputs": [],
   "source": [
    "from main import *"
   ]
  },
  {
   "cell_type": "code",
   "execution_count": 2,
   "id": "3ed5bc1e",
   "metadata": {},
   "outputs": [
    {
     "name": "stdout",
     "output_type": "stream",
     "text": [
      "aPriv: 50976676946856934368514730279023252495289673020285068105117478194605024446035\n",
      "aPub: PublicKey(x=94234766452637839023555289375983819884015819568810027011593426995611439025636, y=46387898840645111270316383628778668023722947001453314102759634953507628287499, xy=0)\n"
     ]
    }
   ],
   "source": [
    "## Sender\n",
    "\n",
    "aPriv = generate_random_private_key() # ephemeral private Key\n",
    "aPub = priv_to_pub(aPriv) # ephemeral public Key\n",
    "print(\"aPriv:\", aPriv)\n",
    "print(\"aPub:\", aPub)"
   ]
  },
  {
   "cell_type": "code",
   "execution_count": 3,
   "id": "8a8e8ca5",
   "metadata": {},
   "outputs": [
    {
     "name": "stdout",
     "output_type": "stream",
     "text": [
      "bPrivSp: 82905411689725024121121145539830451003182425079471679324822348950714146766946\n",
      "bPrivSc: 79896034844856666493243508401375854489444904502325986892338627235893272185125\n",
      "bPubSp: PublicKey(x=100446826985562328766371703055660649294413067506209568382573080290653741432932, y=44242975477243091279802752185218037701794623453194793326419385218120025577358, xy=0)\n",
      "bPubSc: PublicKey(x=16197786335806825869477146283777310436716551544828622819248642374043664085641, y=47947411801551377486501079389260190373487175577339446694582667820530104868659, xy=0)\n",
      "stealthMA: st:eth:0x02de12e3acb805463ddbfbac71dcd79d1f12366bdc82154d3de3a76ab3949ec0640323cf9f470afeffe36cea2da5f9c5175819ed22562fd6c5887ac03744fe477289\n"
     ]
    }
   ],
   "source": [
    "## Recipient\n",
    "\n",
    "bPrivSp = generate_random_private_key() # spening private key\n",
    "bPrivSc = generate_random_private_key() # scanning private key\n",
    "\n",
    "bPubSp = priv_to_pub(bPrivSp) # spening public key\n",
    "bPubSc = priv_to_pub(bPrivSc) # scanning public key\n",
    "\n",
    "stealthMA = generate_stealth_meta_address(bPubSp, bPubSc)\n",
    "\n",
    "print(\"bPrivSp:\", bPrivSp)\n",
    "print(\"bPrivSc:\", bPrivSc)\n",
    "print(\"bPubSp:\", bPubSp)\n",
    "print(\"bPubSc:\", bPubSc)\n",
    "print(\"stealthMA:\", stealthMA)"
   ]
  },
  {
   "cell_type": "code",
   "execution_count": 4,
   "id": "df65a06f",
   "metadata": {},
   "outputs": [
    {
     "name": "stdout",
     "output_type": "stream",
     "text": [
      "stAddress: 0x5c0cc03951b51d4887d99caf1d57839d00e889bc\n",
      "ephemeralPublicKey: PublicKey(x=94234766452637839023555289375983819884015819568810027011593426995611439025636, y=46387898840645111270316383628778668023722947001453314102759634953507628287499, xy=0)\n",
      "viewTag: 16\n"
     ]
    }
   ],
   "source": [
    "# Sender computes stealth address and necessary information for the recipient\n",
    "stAddress, ephemeralPublicKey, viewTag = generate_stealth_address_info_from_meta_address(stealthMA, aPriv)\n",
    "\n",
    "print(\"stAddress:\", stAddress)\n",
    "print(\"ephemeralPublicKey:\", ephemeralPublicKey)\n",
    "print(\"viewTag:\", viewTag)"
   ]
  },
  {
   "cell_type": "code",
   "execution_count": 5,
   "id": "a6ff747a",
   "metadata": {},
   "outputs": [
    {
     "name": "stdout",
     "output_type": "stream",
     "text": [
      "Stealth address found | 0x5c0cc03951b51d4887d99caf1d57839d00e889bc\n"
     ]
    }
   ],
   "source": [
    "## Recipient parses all events and collects the ephemeral pubkey, the stealth addresses and view tags logged\n",
    "moreRandomPrivateKeys = [generate_random_private_key() for i in range(1,101)]\n",
    "moreRandomPublicKeys = [priv_to_pub(i) for i in moreRandomPrivateKeys]\n",
    "moreRandomStealthAddresses = [pubkey_to_address(i) for i in moreRandomPublicKeys]\n",
    "moreRandomViewTags = [i for i in range(len(moreRandomStealthAddresses))]\n",
    "\n",
    "\n",
    "found, parsed = parse(\n",
    "    [ephemeralPublicKey]+moreRandomPublicKeys, \n",
    "    [stAddress] + moreRandomStealthAddresses, \n",
    "    [viewTag] + moreRandomViewTags, \n",
    "    bPrivSc, \n",
    "    bPubSp\n",
    ")"
   ]
  },
  {
   "cell_type": "code",
   "execution_count": 6,
   "id": "da0793e4",
   "metadata": {},
   "outputs": [],
   "source": [
    "matching_dh_secrets = [i[0] for i in found]\n",
    "stealthPrivateKeys = compute_stealth_address_private_key(matching_dh_secrets, bPrivSp)"
   ]
  },
  {
   "cell_type": "code",
   "execution_count": 7,
   "id": "5d3c3a3e",
   "metadata": {},
   "outputs": [
    {
     "name": "stdout",
     "output_type": "stream",
     "text": [
      "0xc77bc95e2e62ec76e951b1d3542177dfc0822e51e21f20f50024d059f91b19b5\n"
     ]
    }
   ],
   "source": [
    "for i in stealthPrivateKeys:\n",
    "    print(hex(i))"
   ]
  },
  {
   "cell_type": "code",
   "execution_count": null,
   "id": "5251eacf",
   "metadata": {},
   "outputs": [],
   "source": []
  }
 ],
 "metadata": {
  "kernelspec": {
   "display_name": "smartwallet",
   "language": "python",
   "name": "smartwallet"
  },
  "language_info": {
   "codemirror_mode": {
    "name": "ipython",
    "version": 3
   },
   "file_extension": ".py",
   "mimetype": "text/x-python",
   "name": "python",
   "nbconvert_exporter": "python",
   "pygments_lexer": "ipython3",
   "version": "3.10.12"
  }
 },
 "nbformat": 4,
 "nbformat_minor": 5
}
